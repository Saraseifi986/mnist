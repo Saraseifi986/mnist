{
 "cells": [
  {
   "cell_type": "code",
   "execution_count": 1,
   "id": "18af113a-cf75-493a-9c9d-416e9c032b66",
   "metadata": {},
   "outputs": [],
   "source": [
    "%matplotlib inline\n",
    "import numpy as np\n",
    "import pandas as pd\n",
    "import pandas\n",
    "import tensorflow as tf\n",
    "import keras as keras\n",
    "import matplotlib.pyplot as plt\n",
    "import keras as keras\n",
    "import tensorflow as tf\n",
    "from keras.datasets import mnist\n",
    "from keras.models import Sequential\n",
    "from keras.layers import Dense\n",
    "from random import randint\n",
    "from keras.utils import np_utils"
   ]
  },
  {
   "cell_type": "code",
   "execution_count": 2,
   "id": "ae0a0faa-43f7-49ee-9173-f420dd6492f8",
   "metadata": {},
   "outputs": [],
   "source": [
    "import os\n",
    "os.environ['KMP_DUPLICATE_LIB_OK']='True'"
   ]
  },
  {
   "cell_type": "code",
   "execution_count": 3,
   "id": "d4b3d08c-e656-49d5-94f5-e8dcf600d260",
   "metadata": {},
   "outputs": [],
   "source": [
    "(x_train,y_train),(x_test,y_test)=mnist.load_data()"
   ]
  },
  {
   "cell_type": "code",
   "execution_count": 4,
   "id": "897e08b6-c5b2-451b-8fe1-af96345ad16a",
   "metadata": {},
   "outputs": [
    {
     "data": {
      "text/plain": [
       "(60000, 28, 28)"
      ]
     },
     "execution_count": 4,
     "metadata": {},
     "output_type": "execute_result"
    }
   ],
   "source": [
    "x_train.shape"
   ]
  },
  {
   "cell_type": "code",
   "execution_count": 5,
   "id": "2fc9b6e9-17ea-473c-b88b-ceb15799c0cc",
   "metadata": {},
   "outputs": [
    {
     "data": {
      "text/plain": [
       "(10000, 28, 28)"
      ]
     },
     "execution_count": 5,
     "metadata": {},
     "output_type": "execute_result"
    }
   ],
   "source": [
    "x_test.shape"
   ]
  },
  {
   "cell_type": "code",
   "execution_count": 25,
   "id": "a67292e7-a583-4360-aafd-8216a87e32eb",
   "metadata": {},
   "outputs": [
    {
     "data": {
      "image/png": "[encoded data removed]",
      "text/plain": [
       "<Figure size 640x480 with 4 Axes>"
      ]
     },
     "metadata": {},
     "output_type": "display_data"
    }
   ],
   "source": [
    "plt.subplot(221)\n",
    "plt.imshow(x_train[randint(0,len(x_train))],'gray')\n",
    "\n",
    "\n",
    "plt.subplot(222)\n",
    "plt.imshow(x_train[randint(0,len(x_train))],'gray')\n",
    "\n",
    "plt.subplot(223)\n",
    "plt.imshow(x_train[randint(0,len(x_train))],'gray')\n",
    "\n",
    "plt.subplot(224)\n",
    "plt.imshow(x_train[randint(0,len(x_train))],'gray')\n",
    "\n",
    "plt.show()"
   ]
  },
  {
   "cell_type": "code",
   "execution_count": 26,
   "id": "ecfc14d6-a5be-4e80-8f19-970e82a13082",
   "metadata": {},
   "outputs": [
    {
     "name": "stdout",
     "output_type": "stream",
     "text": [
      "60000\n",
      "28\n",
      "28\n"
     ]
    }
   ],
   "source": [
    "print(x_train.shape[0])\n",
    "print(x_train.shape[1])\n",
    "print(x_train.shape[2])"
   ]
  },
  {
   "cell_type": "code",
   "execution_count": 6,
   "id": "836890ff-6b13-49e0-b373-ddb95683e20c",
   "metadata": {},
   "outputs": [],
   "source": [
    "num_pixels=x_train.shape[1] * x_train.shape[2]\n",
    "x_train=x_train.reshape((x_train.shape[0],num_pixels)).astype('float32')\n",
    "x_test=x_test.reshape((x_test.shape[0],num_pixels)).astype('float32')\n",
    "x_train=x_train/255\n",
    "x_test=x_test/255   #normalize"
   ]
  },
  {
   "cell_type": "code",
   "execution_count": 7,
   "id": "3409b4e6-b481-455a-b064-1632ced4fdfc",
   "metadata": {},
   "outputs": [],
   "source": [
    "y_train=np_utils.to_categorical(y_train)   #n codindg one hot\n",
    "y_test=np_utils.to_categorical(y_test)\n",
    "num_classes=y_test.shape[1]"
   ]
  },
  {
   "cell_type": "code",
   "execution_count": 8,
   "id": "995cfdcf-0abf-4fd8-a520-ac5e1b6a5780",
   "metadata": {},
   "outputs": [],
   "source": [
    "#make nutral network\n",
    "\n",
    "model=Sequential()\n",
    "                  #number of dimentions for input features\n",
    "model.add(Dense(num_pixels,input_dim=num_pixels,kernel_initializer='normal',activation='relu'))#vorodi\n",
    "          \n",
    "model.add(Dense(num_classes,kernel_initializer='normal',activation='softmax'))   #khoroji dar vaghe shabake asabi sakhteh shod\n",
    "model.compile(loss='categorical_crossentropy', optimizer='adam',metrics=['accuracy'])    #dar enteha bayad complie konim      \n",
    "          \n",
    "          \n",
    "          "
   ]
  },
  {
   "cell_type": "code",
   "execution_count": 10,
   "id": "4ae08506-84cf-44c6-aed9-b6885ec8a929",
   "metadata": {},
   "outputs": [
    {
     "name": "stdout",
     "output_type": "stream",
     "text": [
      "Model: \"sequential\"\n",
      "_________________________________________________________________\n",
      " Layer (type)                Output Shape              Param #   \n",
      "=================================================================\n",
      " dense (Dense)               (None, 784)               615440    \n",
      "                                                                 \n",
      " dense_1 (Dense)             (None, 10)                7850      \n",
      "                                                                 \n",
      "=================================================================\n",
      "Total params: 623,290\n",
      "Trainable params: 623,290\n",
      "Non-trainable params: 0\n",
      "_________________________________________________________________\n"
     ]
    }
   ],
   "source": [
    "model.summary()"
   ]
  },
  {
   "cell_type": "code",
   "execution_count": 11,
   "id": "f94a6a27-4306-4b93-8047-bf95dc795f7b",
   "metadata": {},
   "outputs": [
    {
     "name": "stdout",
     "output_type": "stream",
     "text": [
      "Epoch 1/10\n",
      "300/300 [==============================] - 5s 13ms/step - loss: 0.2782 - accuracy: 0.9218 - val_loss: 0.1386 - val_accuracy: 0.9591\n",
      "Epoch 2/10\n",
      "300/300 [==============================] - 3s 10ms/step - loss: 0.1121 - accuracy: 0.9676 - val_loss: 0.0945 - val_accuracy: 0.9703\n",
      "Epoch 3/10\n",
      "300/300 [==============================] - 2s 8ms/step - loss: 0.0707 - accuracy: 0.9798 - val_loss: 0.0745 - val_accuracy: 0.9767\n",
      "Epoch 4/10\n",
      "300/300 [==============================] - 2s 8ms/step - loss: 0.0494 - accuracy: 0.9856 - val_loss: 0.0678 - val_accuracy: 0.9781\n",
      "Epoch 5/10\n",
      "300/300 [==============================] - 3s 11ms/step - loss: 0.0359 - accuracy: 0.9902 - val_loss: 0.0628 - val_accuracy: 0.9791\n",
      "Epoch 6/10\n",
      "300/300 [==============================] - 3s 10ms/step - loss: 0.0266 - accuracy: 0.9930 - val_loss: 0.0632 - val_accuracy: 0.9791\n",
      "Epoch 7/10\n",
      "300/300 [==============================] - 4s 12ms/step - loss: 0.0191 - accuracy: 0.9950 - val_loss: 0.0631 - val_accuracy: 0.9803\n",
      "Epoch 8/10\n",
      "300/300 [==============================] - 3s 9ms/step - loss: 0.0146 - accuracy: 0.9966 - val_loss: 0.0655 - val_accuracy: 0.9814\n",
      "Epoch 9/10\n",
      "300/300 [==============================] - 3s 9ms/step - loss: 0.0104 - accuracy: 0.9979 - val_loss: 0.0694 - val_accuracy: 0.9798\n",
      "Epoch 10/10\n",
      "300/300 [==============================] - 3s 11ms/step - loss: 0.0079 - accuracy: 0.9986 - val_loss: 0.0614 - val_accuracy: 0.9815\n"
     ]
    },
    {
     "data": {
      "text/plain": [
       "<keras.callbacks.History at 0x2273aa569e0>"
      ]
     },
     "execution_count": 11,
     "metadata": {},
     "output_type": "execute_result"
    }
   ],
   "source": [
    "model.fit(x_train,y_train,\n",
    "              validation_data=(x_test,y_test),batch_size=200,\n",
    "    epochs=10,verbose=True)"
   ]
  },
  {
   "cell_type": "code",
   "execution_count": 12,
   "id": "c7591fed-6c94-4473-adb1-f121bd7af832",
   "metadata": {},
   "outputs": [
    {
     "name": "stdout",
     "output_type": "stream",
     "text": [
      "313/313 [==============================] - 1s 3ms/step - loss: 0.0614 - accuracy: 0.9815\n",
      "ERROR: 1.85%\n"
     ]
    }
   ],
   "source": [
    "scores=model.evaluate(x_test,y_test)\n",
    "print('ERROR: %.2f%%' % (100-scores[1]*100))"
   ]
  },
  {
   "cell_type": "code",
   "execution_count": 13,
   "id": "738ed99b-3791-47ae-8ccf-744622906d32",
   "metadata": {},
   "outputs": [],
   "source": [
    "#khataye test"
   ]
  },
  {
   "cell_type": "code",
   "execution_count": 14,
   "id": "fd5ba6b9-9a6a-494b-91ad-1f4c566598e8",
   "metadata": {},
   "outputs": [
    {
     "name": "stderr",
     "output_type": "stream",
     "text": [
      "C:\\Users\\saras\\AppData\\Local\\Temp\\ipykernel_3300\\2931296799.py:1: DeprecationWarning: This function is deprecated. Please call randint(0, 256 + 1) instead\n",
      "  d=np.random.random_integers(0,255+1,num_pixels)\n"
     ]
    }
   ],
   "source": [
    "d=np.random.random_integers(0,255+1,num_pixels)"
   ]
  },
  {
   "cell_type": "code",
   "execution_count": 15,
   "id": "5d12090a-89a2-415e-a73d-71f27d020d75",
   "metadata": {},
   "outputs": [
    {
     "data": {
      "text/plain": [
       "256"
      ]
     },
     "execution_count": 15,
     "metadata": {},
     "output_type": "execute_result"
    }
   ],
   "source": [
    "np.max(d)"
   ]
  },
  {
   "cell_type": "code",
   "execution_count": 16,
   "id": "acc091c4-da69-459e-bd90-ba5be8050dac",
   "metadata": {},
   "outputs": [
    {
     "data": {
      "image/png": "[encoded data removed]",
      "text/plain": [
       "<Figure size 640x480 with 1 Axes>"
      ]
     },
     "metadata": {},
     "output_type": "display_data"
    }
   ],
   "source": [
    "plt.imshow(d.reshape((28,28)),'gray')\n",
    "plt.show()"
   ]
  },
  {
   "cell_type": "code",
   "execution_count": 17,
   "id": "e4e4c52b-3bcc-4257-8b3a-f9164ecb8d0a",
   "metadata": {},
   "outputs": [
    {
     "data": {
      "text/plain": [
       "(784,)"
      ]
     },
     "execution_count": 17,
     "metadata": {},
     "output_type": "execute_result"
    }
   ],
   "source": [
    "d.shape"
   ]
  },
  {
   "cell_type": "code",
   "execution_count": 18,
   "id": "7e281dd4-1ee9-440c-b48c-14ace436d5ee",
   "metadata": {},
   "outputs": [
    {
     "name": "stdout",
     "output_type": "stream",
     "text": [
      "1/1 [==============================] - 0s 235ms/step\n"
     ]
    }
   ],
   "source": [
    "p=model.predict(d.reshape(1,-1))"
   ]
  },
  {
   "cell_type": "code",
   "execution_count": 19,
   "id": "434cda76-27b3-4f1b-a10a-8559c467ee19",
   "metadata": {},
   "outputs": [
    {
     "data": {
      "text/plain": [
       "5"
      ]
     },
     "execution_count": 19,
     "metadata": {},
     "output_type": "execute_result"
    }
   ],
   "source": [
    "np.argmax(p)"
   ]
  },
  {
   "cell_type": "code",
   "execution_count": 20,
   "id": "922cc3a4-e66b-453b-b04d-e277beef3a8e",
   "metadata": {},
   "outputs": [
    {
     "data": {
      "text/plain": [
       "<matplotlib.image.AxesImage at 0x2273c05bb80>"
      ]
     },
     "execution_count": 20,
     "metadata": {},
     "output_type": "execute_result"
    },
    {
     "data": {
      "image/png": "[encoded data removed]",
      "text/plain": [
       "<Figure size 640x480 with 1 Axes>"
      ]
     },
     "metadata": {},
     "output_type": "display_data"
    }
   ],
   "source": [
    "plt.imshow(x_test[100].reshape(28,28),'gray')"
   ]
  },
  {
   "cell_type": "code",
   "execution_count": null,
   "id": "ad298e07-2d19-41c0-9755-337584e9dc9f",
   "metadata": {},
   "outputs": [],
   "source": []
  },
  {
   "cell_type": "code",
   "execution_count": null,
   "id": "090381b3-aa17-48c4-a0db-9f055377df75",
   "metadata": {},
   "outputs": [],
   "source": [
    "\n"
   ]
  }
 ],
 "metadata": {
  "kernelspec": {
   "display_name": "Python 3 (ipykernel)",
   "language": "python",
   "name": "python3"
  },
  "language_info": {
   "codemirror_mode": {
    "name": "ipython",
    "version": 3
   },
   "file_extension": ".py",
   "mimetype": "text/x-python",
   "name": "python",
   "nbconvert_exporter": "python",
   "pygments_lexer": "ipython3",
   "version": "3.10.12"
  }
 },
 "nbformat": 4,
 "nbformat_minor": 5
}
